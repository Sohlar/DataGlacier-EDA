{
 "cells": [
  {
   "cell_type": "markdown",
   "id": "b6a16ce5",
   "metadata": {},
   "source": [
    "# Cab Data EDA"
   ]
  },
  {
   "cell_type": "code",
   "execution_count": 4,
   "id": "d4b63581",
   "metadata": {},
   "outputs": [
    {
     "data": {
      "text/plain": [
       "dtype('<M8[ns]')"
      ]
     },
     "execution_count": 4,
     "metadata": {},
     "output_type": "execute_result"
    }
   ],
   "source": [
    "import pandas as pd\n",
    "import numpy as np\n",
    "import datetime\n",
    "\n",
    "df = pd.read_csv('./Datasets/final_data.csv')\n",
    "df['Date_of_Travel'] = pd.to_datetime(df['Date_of_Travel'])\n",
    "\n",
    "df_y = df.query(\"Company == 'Yellow Cab'\").copy()\n",
    "df_p = df.query(\"Company == 'Pink Cab'\").copy()"
   ]
  },
  {
   "cell_type": "code",
   "execution_count": 3,
   "id": "185340c5",
   "metadata": {},
   "outputs": [
    {
     "data": {
      "text/plain": [
       "0         2016-01-04\n",
       "1         2016-01-04\n",
       "2         2016-01-04\n",
       "3         2016-01-04\n",
       "4         2016-01-04\n",
       "             ...    \n",
       "359387    2019-01-02\n",
       "359388    2019-01-02\n",
       "359389    2019-01-02\n",
       "359390    2019-01-02\n",
       "359391    2019-01-02\n",
       "Name: Date_of_Travel, Length: 359392, dtype: object"
      ]
     },
     "execution_count": 3,
     "metadata": {},
     "output_type": "execute_result"
    }
   ],
   "source": [
    "df['Date_of_Travel']"
   ]
  },
  {
   "cell_type": "markdown",
   "id": "c09deb5c",
   "metadata": {},
   "source": [
    "# Creating df_new by grouping OG df by City "
   ]
  },
  {
   "cell_type": "code",
   "execution_count": 87,
   "id": "082e225b",
   "metadata": {},
   "outputs": [
    {
     "data": {
      "text/html": [
       "<div>\n",
       "<style scoped>\n",
       "    .dataframe tbody tr th:only-of-type {\n",
       "        vertical-align: middle;\n",
       "    }\n",
       "\n",
       "    .dataframe tbody tr th {\n",
       "        vertical-align: top;\n",
       "    }\n",
       "\n",
       "    .dataframe thead th {\n",
       "        text-align: right;\n",
       "    }\n",
       "</style>\n",
       "<table border=\"1\" class=\"dataframe\">\n",
       "  <thead>\n",
       "    <tr style=\"text-align: right;\">\n",
       "      <th></th>\n",
       "      <th>Yellow Cab</th>\n",
       "      <th>Pink Cab</th>\n",
       "      <th>Most Transactions</th>\n",
       "      <th>Total Transactions</th>\n",
       "      <th>Pct of Total</th>\n",
       "    </tr>\n",
       "  </thead>\n",
       "  <tbody>\n",
       "    <tr>\n",
       "      <th>WASHINGTON DC</th>\n",
       "      <td>40045</td>\n",
       "      <td>3692</td>\n",
       "      <td>Yellow</td>\n",
       "      <td>43737</td>\n",
       "      <td>0.915586</td>\n",
       "    </tr>\n",
       "    <tr>\n",
       "      <th>CHICAGO IL</th>\n",
       "      <td>47264</td>\n",
       "      <td>9361</td>\n",
       "      <td>Yellow</td>\n",
       "      <td>56625</td>\n",
       "      <td>0.834684</td>\n",
       "    </tr>\n",
       "    <tr>\n",
       "      <th>NEW YORK NY</th>\n",
       "      <td>85918</td>\n",
       "      <td>13967</td>\n",
       "      <td>Yellow</td>\n",
       "      <td>99885</td>\n",
       "      <td>0.860169</td>\n",
       "    </tr>\n",
       "    <tr>\n",
       "      <th>SAN DIEGO CA</th>\n",
       "      <td>9816</td>\n",
       "      <td>10672</td>\n",
       "      <td>Pink</td>\n",
       "      <td>20488</td>\n",
       "      <td>0.520890</td>\n",
       "    </tr>\n",
       "    <tr>\n",
       "      <th>PHOENIX AZ</th>\n",
       "      <td>1200</td>\n",
       "      <td>864</td>\n",
       "      <td>Yellow</td>\n",
       "      <td>2064</td>\n",
       "      <td>0.581395</td>\n",
       "    </tr>\n",
       "    <tr>\n",
       "      <th>SACRAMENTO CA</th>\n",
       "      <td>1033</td>\n",
       "      <td>1334</td>\n",
       "      <td>Pink</td>\n",
       "      <td>2367</td>\n",
       "      <td>0.563583</td>\n",
       "    </tr>\n",
       "    <tr>\n",
       "      <th>SEATTLE WA</th>\n",
       "      <td>5265</td>\n",
       "      <td>2732</td>\n",
       "      <td>Yellow</td>\n",
       "      <td>7997</td>\n",
       "      <td>0.658372</td>\n",
       "    </tr>\n",
       "    <tr>\n",
       "      <th>LOS ANGELES CA</th>\n",
       "      <td>28168</td>\n",
       "      <td>19865</td>\n",
       "      <td>Yellow</td>\n",
       "      <td>48033</td>\n",
       "      <td>0.586430</td>\n",
       "    </tr>\n",
       "    <tr>\n",
       "      <th>MIAMI FL</th>\n",
       "      <td>4452</td>\n",
       "      <td>2002</td>\n",
       "      <td>Yellow</td>\n",
       "      <td>6454</td>\n",
       "      <td>0.689805</td>\n",
       "    </tr>\n",
       "    <tr>\n",
       "      <th>DENVER CO</th>\n",
       "      <td>2431</td>\n",
       "      <td>1394</td>\n",
       "      <td>Yellow</td>\n",
       "      <td>3825</td>\n",
       "      <td>0.635556</td>\n",
       "    </tr>\n",
       "    <tr>\n",
       "      <th>DALLAS TX</th>\n",
       "      <td>5637</td>\n",
       "      <td>1380</td>\n",
       "      <td>Yellow</td>\n",
       "      <td>7017</td>\n",
       "      <td>0.803335</td>\n",
       "    </tr>\n",
       "    <tr>\n",
       "      <th>BOSTON MA</th>\n",
       "      <td>24506</td>\n",
       "      <td>5186</td>\n",
       "      <td>Yellow</td>\n",
       "      <td>29692</td>\n",
       "      <td>0.825340</td>\n",
       "    </tr>\n",
       "    <tr>\n",
       "      <th>ATLANTA GA</th>\n",
       "      <td>5795</td>\n",
       "      <td>1762</td>\n",
       "      <td>Yellow</td>\n",
       "      <td>7557</td>\n",
       "      <td>0.766839</td>\n",
       "    </tr>\n",
       "    <tr>\n",
       "      <th>TUCSON AZ</th>\n",
       "      <td>1132</td>\n",
       "      <td>799</td>\n",
       "      <td>Yellow</td>\n",
       "      <td>1931</td>\n",
       "      <td>0.586225</td>\n",
       "    </tr>\n",
       "    <tr>\n",
       "      <th>SILICON VALLEY</th>\n",
       "      <td>4722</td>\n",
       "      <td>3797</td>\n",
       "      <td>Yellow</td>\n",
       "      <td>8519</td>\n",
       "      <td>0.554290</td>\n",
       "    </tr>\n",
       "    <tr>\n",
       "      <th>NASHVILLE TN</th>\n",
       "      <td>1169</td>\n",
       "      <td>1841</td>\n",
       "      <td>Pink</td>\n",
       "      <td>3010</td>\n",
       "      <td>0.611628</td>\n",
       "    </tr>\n",
       "    <tr>\n",
       "      <th>ORANGE COUNTY</th>\n",
       "      <td>2469</td>\n",
       "      <td>1513</td>\n",
       "      <td>Yellow</td>\n",
       "      <td>3982</td>\n",
       "      <td>0.620040</td>\n",
       "    </tr>\n",
       "    <tr>\n",
       "      <th>AUSTIN TX</th>\n",
       "      <td>3028</td>\n",
       "      <td>1868</td>\n",
       "      <td>Yellow</td>\n",
       "      <td>4896</td>\n",
       "      <td>0.618464</td>\n",
       "    </tr>\n",
       "    <tr>\n",
       "      <th>PITTSBURGH PA</th>\n",
       "      <td>631</td>\n",
       "      <td>682</td>\n",
       "      <td>Pink</td>\n",
       "      <td>1313</td>\n",
       "      <td>0.519421</td>\n",
       "    </tr>\n",
       "  </tbody>\n",
       "</table>\n",
       "</div>"
      ],
      "text/plain": [
       "                Yellow Cab  Pink Cab Most Transactions  Total Transactions  \\\n",
       "WASHINGTON DC        40045      3692            Yellow               43737   \n",
       "CHICAGO IL           47264      9361            Yellow               56625   \n",
       "NEW YORK NY          85918     13967            Yellow               99885   \n",
       "SAN DIEGO CA          9816     10672              Pink               20488   \n",
       "PHOENIX AZ            1200       864            Yellow                2064   \n",
       "SACRAMENTO CA         1033      1334              Pink                2367   \n",
       "SEATTLE WA            5265      2732            Yellow                7997   \n",
       "LOS ANGELES CA       28168     19865            Yellow               48033   \n",
       "MIAMI FL              4452      2002            Yellow                6454   \n",
       "DENVER CO             2431      1394            Yellow                3825   \n",
       "DALLAS TX             5637      1380            Yellow                7017   \n",
       "BOSTON MA            24506      5186            Yellow               29692   \n",
       "ATLANTA GA            5795      1762            Yellow                7557   \n",
       "TUCSON AZ             1132       799            Yellow                1931   \n",
       "SILICON VALLEY        4722      3797            Yellow                8519   \n",
       "NASHVILLE TN          1169      1841              Pink                3010   \n",
       "ORANGE COUNTY         2469      1513            Yellow                3982   \n",
       "AUSTIN TX             3028      1868            Yellow                4896   \n",
       "PITTSBURGH PA          631       682              Pink                1313   \n",
       "\n",
       "                Pct of Total  \n",
       "WASHINGTON DC       0.915586  \n",
       "CHICAGO IL          0.834684  \n",
       "NEW YORK NY         0.860169  \n",
       "SAN DIEGO CA        0.520890  \n",
       "PHOENIX AZ          0.581395  \n",
       "SACRAMENTO CA       0.563583  \n",
       "SEATTLE WA          0.658372  \n",
       "LOS ANGELES CA      0.586430  \n",
       "MIAMI FL            0.689805  \n",
       "DENVER CO           0.635556  \n",
       "DALLAS TX           0.803335  \n",
       "BOSTON MA           0.825340  \n",
       "ATLANTA GA          0.766839  \n",
       "TUCSON AZ           0.586225  \n",
       "SILICON VALLEY      0.554290  \n",
       "NASHVILLE TN        0.611628  \n",
       "ORANGE COUNTY       0.620040  \n",
       "AUSTIN TX           0.618464  \n",
       "PITTSBURGH PA       0.519421  "
      ]
     },
     "execution_count": 87,
     "metadata": {},
     "output_type": "execute_result"
    }
   ],
   "source": [
    "df_new = pd.DataFrame(index=df['City'].unique())\n",
    "\n",
    "for company in df['Company'].unique():\n",
    "    df_new[company] = (df.loc[df['Company'] == company]\n",
    "                       .groupby('City')['Transaction_ID']\n",
    "                       .count()\n",
    "                       .copy())\n",
    "\n",
    "df_new"
   ]
  },
  {
   "cell_type": "code",
   "execution_count": null,
   "id": "f714141b",
   "metadata": {},
   "outputs": [],
   "source": [
    "df_new['Most Transactions'] = np.where(df_new['Yellow Cab'] > df_new['Pink Cab'], 'Yellow', 'Pink')\n",
    "df_new['Total Transactions'] = df_new['Yellow Cab'] + df_new['Pink Cab']\n",
    "df_new['Pct of Total'] = np.where(df_new['Yellow Cab'] > df_new['Pink Cab'], \n",
    "                                  df_new['Yellow Cab'] / df_new['Total Transactions'], df_new['Pink Cab'] / df_new['Total Transactions'] )\n"
   ]
  },
  {
   "cell_type": "code",
   "execution_count": 86,
   "id": "0fed3642",
   "metadata": {},
   "outputs": [
    {
     "ename": "NameError",
     "evalue": "name 'df_new' is not defined",
     "output_type": "error",
     "traceback": [
      "\u001b[1;31m---------------------------------------------------------------------------\u001b[0m",
      "\u001b[1;31mNameError\u001b[0m                                 Traceback (most recent call last)",
      "Cell \u001b[1;32mIn[86], line 1\u001b[0m\n\u001b[1;32m----> 1\u001b[0m \u001b[43mdf_new\u001b[49m[\u001b[38;5;124m'\u001b[39m\u001b[38;5;124mY_Profit_KM_Mean\u001b[39m\u001b[38;5;124m'\u001b[39m] \u001b[38;5;241m=\u001b[39m (df\u001b[38;5;241m.\u001b[39mquery(\u001b[38;5;124m\"\u001b[39m\u001b[38;5;124mCompany == \u001b[39m\u001b[38;5;124m'\u001b[39m\u001b[38;5;124mYellow Cab\u001b[39m\u001b[38;5;124m'\u001b[39m\u001b[38;5;124m\"\u001b[39m)\n\u001b[0;32m      2\u001b[0m                                 \u001b[38;5;241m.\u001b[39mgroupby(\u001b[38;5;124m'\u001b[39m\u001b[38;5;124mCity\u001b[39m\u001b[38;5;124m'\u001b[39m)[\u001b[38;5;124m'\u001b[39m\u001b[38;5;124mProfit\u001b[39m\u001b[38;5;124m'\u001b[39m]\n\u001b[0;32m      3\u001b[0m                                 \u001b[38;5;241m.\u001b[39mmean()\n\u001b[0;32m      4\u001b[0m                                 \u001b[38;5;241m.\u001b[39mastype(\u001b[38;5;124m'\u001b[39m\u001b[38;5;124mint64\u001b[39m\u001b[38;5;124m'\u001b[39m)\n\u001b[0;32m      5\u001b[0m                                 \u001b[38;5;241m.\u001b[39mcopy())\n\u001b[0;32m      6\u001b[0m df_new[\u001b[38;5;124m'\u001b[39m\u001b[38;5;124mY_Profit_KM_Lo\u001b[39m\u001b[38;5;124m'\u001b[39m] \u001b[38;5;241m=\u001b[39m (df\u001b[38;5;241m.\u001b[39mquery(\u001b[38;5;124m\"\u001b[39m\u001b[38;5;124mCompany == \u001b[39m\u001b[38;5;124m'\u001b[39m\u001b[38;5;124mYellow Cab\u001b[39m\u001b[38;5;124m'\u001b[39m\u001b[38;5;124m and KM_Travelled < 22\u001b[39m\u001b[38;5;124m\"\u001b[39m)\n\u001b[0;32m      7\u001b[0m                                 \u001b[38;5;241m.\u001b[39mgroupby(\u001b[38;5;124m'\u001b[39m\u001b[38;5;124mCity\u001b[39m\u001b[38;5;124m'\u001b[39m)[\u001b[38;5;124m'\u001b[39m\u001b[38;5;124mProfit\u001b[39m\u001b[38;5;124m'\u001b[39m]\n\u001b[0;32m      8\u001b[0m                                 \u001b[38;5;241m.\u001b[39mmean()\n\u001b[0;32m      9\u001b[0m                                 \u001b[38;5;241m.\u001b[39mastype(\u001b[38;5;124m'\u001b[39m\u001b[38;5;124mint64\u001b[39m\u001b[38;5;124m'\u001b[39m)\n\u001b[0;32m     10\u001b[0m                                 \u001b[38;5;241m.\u001b[39mcopy())\n\u001b[0;32m     11\u001b[0m df_new[\u001b[38;5;124m'\u001b[39m\u001b[38;5;124mY_Profit_KM_Hi\u001b[39m\u001b[38;5;124m'\u001b[39m] \u001b[38;5;241m=\u001b[39m (df\u001b[38;5;241m.\u001b[39mquery(\u001b[38;5;124m\"\u001b[39m\u001b[38;5;124mCompany == \u001b[39m\u001b[38;5;124m'\u001b[39m\u001b[38;5;124mYellow Cab\u001b[39m\u001b[38;5;124m'\u001b[39m\u001b[38;5;124m and KM_Travelled > 22\u001b[39m\u001b[38;5;124m\"\u001b[39m)\n\u001b[0;32m     12\u001b[0m                                 \u001b[38;5;241m.\u001b[39mgroupby(\u001b[38;5;124m'\u001b[39m\u001b[38;5;124mCity\u001b[39m\u001b[38;5;124m'\u001b[39m)[\u001b[38;5;124m'\u001b[39m\u001b[38;5;124mProfit\u001b[39m\u001b[38;5;124m'\u001b[39m]\n\u001b[0;32m     13\u001b[0m                                 \u001b[38;5;241m.\u001b[39mmean()\n\u001b[0;32m     14\u001b[0m                                 \u001b[38;5;241m.\u001b[39mastype(\u001b[38;5;124m'\u001b[39m\u001b[38;5;124mint64\u001b[39m\u001b[38;5;124m'\u001b[39m)\n\u001b[0;32m     15\u001b[0m                                 \u001b[38;5;241m.\u001b[39mcopy())\n",
      "\u001b[1;31mNameError\u001b[0m: name 'df_new' is not defined"
     ]
    }
   ],
   "source": [
    "df_new['Y_Profit_KM_Mean'] = (df.query(\"Company == 'Yellow Cab'\")\n",
    "                                .groupby('City')['Profit']\n",
    "                                .mean()\n",
    "                                .astype('int64')\n",
    "                                .copy())\n",
    "df_new['Y_Profit_KM_Lo'] = (df.query(\"Company == 'Yellow Cab' and KM_Travelled < 22\")\n",
    "                                .groupby('City')['Profit']\n",
    "                                .mean()\n",
    "                                .astype('int64')\n",
    "                                .copy())\n",
    "df_new['Y_Profit_KM_Hi'] = (df.query(\"Company == 'Yellow Cab' and KM_Travelled > 22\")\n",
    "                                .groupby('City')['Profit']\n",
    "                                .mean()\n",
    "                                .astype('int64')\n",
    "                                .copy())\n",
    "df_new['Y_Profit_per_KM'] = (df.query(\"Company == 'Yellow Cab'\")\n",
    "                             .groupby('City')\n",
    "                             .apply(lambda x: round(x['Profit'].sum() / x['KM_Travelled'].sum()))\n",
    "                             .copy())\n",
    "df_out = (df.query(\"Company == 'Yellow Cab'\")\n",
    "                             .groupby('City')\n",
    "                             .apply(lambda x: round(x['Profit'].sum() / x['KM_Travelled'].sum()))\n",
    "                             .copy())\n",
    "\n",
    "\n"
   ]
  },
  {
   "cell_type": "code",
   "execution_count": null,
   "id": "0d9226ac",
   "metadata": {},
   "outputs": [],
   "source": [
    "df_new['P_Profit_KM_Mean'] = (df.query(\"Company == 'Pink Cab'\")\n",
    "                                .groupby('City')['Profit']\n",
    "                                .mean()\n",
    "                                .astype('int64')\n",
    "                                .copy())\n",
    "df_new['P_Profit_KM_Lo'] = (df.query(\"Company == 'Pink Cab' and KM_Travelled < 22\")\n",
    "                                .groupby('City')['Profit']\n",
    "                                .mean()\n",
    "                                .astype('int64')\n",
    "                                .copy())\n",
    "df_new['P_Profit_KM_Hi'] = (df.query(\"Company == 'Pink Cab' and KM_Travelled > 22\")\n",
    "                                .groupby('City')['Profit']\n",
    "                                .mean()\n",
    "                                .astype('int64')\n",
    "                                .copy())\n",
    "df_new['P_Profit_per_KM'] = (df.query(\"Company == 'Pink Cab'\")\n",
    "                             .groupby('City')\n",
    "                             .apply(lambda x: round(x['Profit'].sum() / x['KM_Travelled'].sum()))\n",
    "                             .copy())\n",
    "\n",
    "df_new"
   ]
  },
  {
   "cell_type": "markdown",
   "id": "f3f10578",
   "metadata": {},
   "source": [
    "You will need to generate 5-7 hypothesis initially to investigate as some will not prove what you are expecting.\n",
    "\n",
    "For Example: “Is there any seasonality in number of customers using the cab service?”\n",
    "\n",
    "Areas to investigate:\n",
    "\n",
    "Which company has maximum cab users at a particular time period?\n",
    "Does margin proportionally increase with increase in number of customers?\n",
    "What are the attributes of these customer segments?\n",
    "Although not required, we encourage you to document the process and findings\n",
    "\n",
    "What is the business problem?\n",
    "What are the properties of the data provided (data intake report)\n",
    "What steps did you take in order to create an applicable data set?\n",
    "How did you prepare and perform your analysis?\n",
    "What type of analysis did you perform?\n",
    "Why did you choose to use certain analytical techniques over others?\n",
    "What were the results?"
   ]
  },
  {
   "cell_type": "markdown",
   "id": "ead746dc",
   "metadata": {},
   "source": [
    "## Given equal distribution is there a profit discrepancy between income brackets"
   ]
  },
  {
   "cell_type": "markdown",
   "id": "d16b4c5d",
   "metadata": {},
   "source": [
    "### Yellow"
   ]
  },
  {
   "cell_type": "code",
   "execution_count": null,
   "id": "ec947078",
   "metadata": {},
   "outputs": [],
   "source": [
    "quartiles = df_y[r'Income_(USD/Month)'].quantile([0.25, 0.5, 0.75])\n",
    "\n",
    "# Define the income brackets\n",
    "income_brackets = [0, quartiles[0.25], quartiles[0.5], quartiles[0.75], df_y[r'Income_(USD/Month)'].max()]\n",
    "\n",
    "# Divide the income series into brackets\n",
    "df_y['Income_Level'] = pd.cut(df_y[r'Income_(USD/Month)'], income_brackets, labels=[\"Low\", \"Medium\", \"High\", \"Very High\"])\n",
    "\n",
    "df_out = df_y.groupby('Income_Level')['Profit'].sum().copy()\n",
    "\n",
    "df_out\n",
    "\n"
   ]
  },
  {
   "cell_type": "markdown",
   "id": "f4b79ee7",
   "metadata": {},
   "source": [
    "### Pink"
   ]
  },
  {
   "cell_type": "code",
   "execution_count": null,
   "id": "80451634",
   "metadata": {},
   "outputs": [],
   "source": [
    "quartiles = df_p[r'Income_(USD/Month)'].quantile([0.25, 0.5, 0.75])\n",
    "\n",
    "# Define the income brackets\n",
    "income_brackets = [0, quartiles[0.25], quartiles[0.5], quartiles[0.75], df_p[r'Income_(USD/Month)'].max()]\n",
    "\n",
    "# Divide the income series into brackets\n",
    "df_p['Income_Level'] = pd.cut(df_p[r'Income_(USD/Month)'], income_brackets, labels=[\"Low\", \"Medium\", \"High\", \"Very High\"])\n",
    "\n",
    "df_out = df_p.groupby('Income_Level')['Profit'].sum().copy()\n",
    "\n",
    "df_out\n",
    "\n"
   ]
  },
  {
   "cell_type": "markdown",
   "id": "811b4913",
   "metadata": {},
   "source": [
    "### There is no profit discrepancy between equallly distributed income brackets"
   ]
  },
  {
   "cell_type": "markdown",
   "id": "02950ebb",
   "metadata": {},
   "source": [
    "## Given arbitrary distribution is there a profit discrepancy between income brackets"
   ]
  },
  {
   "cell_type": "code",
   "execution_count": null,
   "id": "01f861ae",
   "metadata": {},
   "outputs": [],
   "source": [
    "#Set Income Brackets for customer distribution\n",
    "income_brackets = [0, 3250, 6800, 16600, 100000]\n"
   ]
  },
  {
   "cell_type": "markdown",
   "id": "5aae172e",
   "metadata": {},
   "source": [
    "### Yellow"
   ]
  },
  {
   "cell_type": "code",
   "execution_count": 80,
   "id": "296de69b",
   "metadata": {},
   "outputs": [
    {
     "data": {
      "text/plain": [
       "Income_Level\n",
       "Low           2192378\n",
       "Medium        5913677\n",
       "High         16956013\n",
       "Very High    18960883\n",
       "Name: Profit, dtype: int64"
      ]
     },
     "execution_count": 80,
     "metadata": {},
     "output_type": "execute_result"
    }
   ],
   "source": [
    "# Divide the income series into brackets\n",
    "df_y['Income_Level'] = pd.cut(df_y[r'Income_(USD/Month)'], income_brackets, labels=[\"Low\", \"Medium\", \"High\", \"Very High\"])\n",
    "\n",
    "df_out = df_y.groupby('Income_Level')['Profit'].sum()\n",
    "\n",
    "df_out"
   ]
  },
  {
   "cell_type": "markdown",
   "id": "904c41b7",
   "metadata": {},
   "source": [
    "#### Pink"
   ]
  },
  {
   "cell_type": "code",
   "execution_count": 79,
   "id": "077a2c18",
   "metadata": {},
   "outputs": [
    {
     "data": {
      "text/plain": [
       "Income_Level\n",
       "Low           4245\n",
       "Medium       11828\n",
       "High         32530\n",
       "Very High    36108\n",
       "Name: Transaction_ID, dtype: int64"
      ]
     },
     "execution_count": 79,
     "metadata": {},
     "output_type": "execute_result"
    }
   ],
   "source": [
    "# Divide the income series into brackets\n",
    "df_p['Income_Level'] = pd.cut(df_p[r'Income_(USD/Month)'], income_brackets, labels=[\"Low\", \"Medium\", \"High\", \"Very High\"])\n",
    "\n",
    "df_p_new = df_p.groupby('Income_Level')['Profit'].sum().copy()\n",
    "df_out = df_p.groupby('Income_Level')['Transaction_ID'].count().copy()\n",
    "\n",
    "df_out"
   ]
  },
  {
   "cell_type": "markdown",
   "id": "89218867",
   "metadata": {},
   "source": [
    "#### There is a price descrepancy for an arbitrary distribution"
   ]
  },
  {
   "cell_type": "markdown",
   "id": "4c48255e",
   "metadata": {},
   "source": [
    "# Seasonality of Profit"
   ]
  },
  {
   "cell_type": "code",
   "execution_count": 85,
   "id": "1930b2a1",
   "metadata": {},
   "outputs": [
    {
     "data": {
      "text/plain": [
       "<AxesSubplot: xlabel='Quarters', ylabel='Profit/Million'>"
      ]
     },
     "execution_count": 85,
     "metadata": {},
     "output_type": "execute_result"
    },
    {
     "data": {
      "image/png": "[encoded data removed]",
      "text/plain": [
       "<Figure size 1000x600 with 1 Axes>"
      ]
     },
     "metadata": {},
     "output_type": "display_data"
    }
   ],
   "source": [
    "yeargroups_p = df_p.groupby(pd.Grouper(key='Date_of_Travel', freq='QS'))['Profit'].sum().copy()\n",
    "yeargroups_p.drop(yeargroups_p.index[-1], inplace=True)\n",
    "yeargroups_p_xplot = yeargroups_p.index.strftime('%Y')\n",
    "yeargroups_p_yplot = yeargroups_p.to_numpy()\n",
    "\n",
    "\n",
    "yeargroups_p.plot(x='yeargroups_p_xplot', y='yeargroups_p_yplot', kind='line', figsize=(10,6), ylabel='Profit/Million', xlabel='Quarters')"
   ]
  },
  {
   "cell_type": "code",
   "execution_count": 84,
   "id": "f3beac22",
   "metadata": {},
   "outputs": [
    {
     "data": {
      "text/plain": [
       "<AxesSubplot: xlabel='Quarters', ylabel='Profit/Million'>"
      ]
     },
     "execution_count": 84,
     "metadata": {},
     "output_type": "execute_result"
    },
    {
     "data": {
      "image/png": "[encoded data removed]",
      "text/plain": [
       "<Figure size 1000x600 with 1 Axes>"
      ]
     },
     "metadata": {},
     "output_type": "display_data"
    }
   ],
   "source": [
    "yeargroups_y = df_y.groupby(pd.Grouper(key='Date_of_Travel', freq='QS'))['Profit'].sum().copy()\n",
    "yeargroups_y.drop(yeargroups_y.index[-1], inplace=True)\n",
    "yeargroups_y_xplot = yeargroups_y.index.strftime('%Y')\n",
    "yeargroups_y_yplot = yeargroups_y.to_numpy()\n",
    "\n",
    "\n",
    "yeargroups_y.plot(x='yeargroups_y_xplot', y='yeargroups_y_yplot', kind='line', figsize=(10,6), ylabel='Profit/Million', xlabel='Quarters')\n"
   ]
  },
  {
   "cell_type": "code",
   "execution_count": null,
   "id": "82f37ca4",
   "metadata": {},
   "outputs": [],
   "source": []
  }
 ],
 "metadata": {
  "kernelspec": {
   "display_name": "Python 3 (ipykernel)",
   "language": "python",
   "name": "python3"
  },
  "language_info": {
   "codemirror_mode": {
    "name": "ipython",
    "version": 3
   },
   "file_extension": ".py",
   "mimetype": "text/x-python",
   "name": "python",
   "nbconvert_exporter": "python",
   "pygments_lexer": "ipython3",
   "version": "3.9.13"
  }
 },
 "nbformat": 4,
 "nbformat_minor": 5
}
